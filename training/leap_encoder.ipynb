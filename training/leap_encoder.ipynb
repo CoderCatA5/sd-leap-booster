{
 "cells": [
  {
   "cell_type": "code",
   "execution_count": null,
   "id": "8d16faaf-3c68-4078-95ae-f0cba75069a5",
   "metadata": {
    "tags": []
   },
   "outputs": [],
   "source": [
    "from time import time\n",
    "import matplotlib.pyplot as plt\n",
    "import sys\n",
    "\n",
    "from sklearn.model_selection import train_test_split\n",
    "from sklearn.model_selection import RandomizedSearchCV\n",
    "from sklearn.datasets import fetch_lfw_people\n",
    "from sklearn.metrics import classification_report\n",
    "from sklearn.metrics import ConfusionMatrixDisplay\n",
    "from sklearn.preprocessing import StandardScaler\n",
    "from sklearn.decomposition import PCA\n",
    "from sklearn.svm import SVC\n",
    "from sklearn import random_projection\n",
    "from sklearn.utils.fixes import loguniform\n",
    "from tqdm import tqdm\n",
    "import numpy as np\n",
    "import pickle"
   ]
  },
  {
   "cell_type": "code",
   "execution_count": 1,
   "id": "069946b5-cb63-49aa-8e8e-4901772b7283",
   "metadata": {
    "tags": []
   },
   "outputs": [
    {
     "ename": "ModuleNotFoundError",
     "evalue": "No module named 'tensorflow'",
     "output_type": "error",
     "traceback": [
      "\u001b[0;31m---------------------------------------------------------------------------\u001b[0m",
      "\u001b[0;31mModuleNotFoundError\u001b[0m                       Traceback (most recent call last)",
      "Cell \u001b[0;32mIn [1], line 2\u001b[0m\n\u001b[1;32m      1\u001b[0m \u001b[38;5;66;03m# Acquire MNIST data\u001b[39;00m\n\u001b[0;32m----> 2\u001b[0m \u001b[38;5;28;01mfrom\u001b[39;00m \u001b[38;5;21;01mtensorflow\u001b[39;00m\u001b[38;5;21;01m.\u001b[39;00m\u001b[38;5;21;01mkeras\u001b[39;00m\u001b[38;5;21;01m.\u001b[39;00m\u001b[38;5;21;01mdatasets\u001b[39;00m \u001b[38;5;28;01mimport\u001b[39;00m mnist\n\u001b[1;32m      4\u001b[0m (train_images, train_labels), (test_images, test_labels) \u001b[38;5;241m=\u001b[39m mnist\u001b[38;5;241m.\u001b[39mload_data()\n\u001b[1;32m      6\u001b[0m \u001b[38;5;66;03m# Reshape data\u001b[39;00m\n",
      "\u001b[0;31mModuleNotFoundError\u001b[0m: No module named 'tensorflow'"
     ]
    }
   ],
   "source": [
    "# Acquire MNIST data\n",
    "from tensorflow.keras.datasets import mnist\n",
    "\n",
    "(train_images, train_labels), (test_images, test_labels) = mnist.load_data()\n",
    "\n",
    "# Reshape data\n",
    "import numpy as np\n",
    "\n",
    "train_images = np.reshape(train_images, (-1, 784))\n",
    "test_images = np.reshape(test_images, (-1, 784))\n",
    "\n",
    "# Normalize data\n",
    "train_images = train_images.astype('float32') / 255\n",
    "test_images = test_images.astype('float32') / 255"
   ]
  },
  {
   "cell_type": "code",
   "execution_count": null,
   "id": "4957dcbd-5e2d-4097-a028-611efe92513c",
   "metadata": {},
   "outputs": [],
   "source": [
    "def get_data():\n",
    "    from datamodule import ImageWeightsModule\n",
    "    import torch\n",
    "    all_data_loader = ImageWeightsModule(\"lora_dataset_creator/lora_dataset\", 1, augment_training=False, val_split=0).train_dataloader()\n",
    "    X = None\n",
    "    Y = None\n",
    "    for x, y in tqdm(all_data_loader):\n",
    "        if X is None:\n",
    "            X = x\n",
    "        X = torch.cat((X, x), dim=0)\n",
    "        if Y is None:\n",
    "            Y = y\n",
    "        Y = torch.cat((Y, y), dim=0)\n",
    "    return X, np.array(Y)\n",
    "\n",
    "X, Y = get_data()"
   ]
  },
  {
   "cell_type": "code",
   "execution_count": null,
   "id": "e3948438-ad82-4819-b3c2-0b9de217a207",
   "metadata": {
    "tags": []
   },
   "outputs": [],
   "source": [
    "scaler = StandardScaler()\n",
    "Y_scaled = scaler.fit_transform(Y)\n",
    "Y_scaled = Y\n",
    "Y_scaled_val = Y_scaled[:10, :]\n",
    "Y_scaled = Y_scaled[10:, :]\n",
    "print(Y_scaled.shape)"
   ]
  },
  {
   "cell_type": "raw",
   "id": "8e7a761e-6766-4577-bd71-059ee24f2edf",
   "metadata": {
    "tags": []
   },
   "source": [
    "transformer = random_projection.GaussianRandomProjection(n_components=100, compute_inverse_components=True)\n",
    "X_new = transformer.fit_transform(Y_scaled)\n",
    "print(X_new.shape)\n",
    "\n",
    "X_new_inversed = transformer.inverse_transform(X_new)\n",
    "print(X_new_inversed.shape)\n",
    "print(f\"Y_scaled:\\n{Y_scaled}\\nX_new_inversed:\\n{X_new_inversed} ({abs(Y_scaled - X_new_inversed).mean()})\")\n",
    "\n",
    "X_new = transformer.transform(Y_scaled_val)\n",
    "X_new_inversed = transformer.inverse_transform(X_new)\n",
    "print(f\"Y_scaled_val:\\n{Y_scaled_val}\\nX_new_inversed:\\n{X_new_inversed} ({abs(Y_scaled_val - X_new_inversed).mean()})\")"
   ]
  },
  {
   "cell_type": "code",
   "execution_count": null,
   "id": "e7b16e8c-0b74-466c-9d58-489b89525adc",
   "metadata": {
    "tags": []
   },
   "outputs": [],
   "source": [
    "@np.printoptions(suppress=True)\n",
    "def test_pca(x):\n",
    "    t0 = time()\n",
    "    z = pca.transform(x)\n",
    "    print(\"transform done in %0.3fs\" % (time() - t0))\n",
    "    print(f\"out = {z.shape}\")\n",
    "    t0 = time()\n",
    "    x_hat = pca.inverse_transform(z)\n",
    "    print(\"inverse_transform done in %0.3fs\" % (time() - t0))\n",
    "    print(f\"loss = {abs(x_hat - x).mean()}\")"
   ]
  },
  {
   "cell_type": "code",
   "execution_count": null,
   "id": "5a472fa4-1f6b-4ee9-afe4-8de6043834a6",
   "metadata": {
    "tags": []
   },
   "outputs": [],
   "source": [
    "n_components = 100\n",
    "t0 = time()\n",
    "print(f\"in = {Y_scaled.shape}\")\n",
    "pca = PCA(n_components=n_components, svd_solver=\"randomized\", whiten=True, random_state=5).fit(Y_scaled)\n",
    "print(\"done in %0.3fs\" % (time() - t0))"
   ]
  },
  {
   "cell_type": "code",
   "execution_count": null,
   "id": "557d4a65-9d63-467c-9b15-9cc720db815f",
   "metadata": {
    "tags": []
   },
   "outputs": [],
   "source": [
    "test_pca(Y_scaled)\n",
    "test_pca(Y_scaled_val)"
   ]
  },
  {
   "cell_type": "code",
   "execution_count": null,
   "id": "2aa0b7a3-cc18-495d-96e6-32be1ec7950c",
   "metadata": {
    "tags": []
   },
   "outputs": [],
   "source": [
    "eigenface_titles = [\"eigenface %d\" % i for i in range(eigenfaces.shape[0])]\n",
    "plot_gallery(eigenfaces, eigenface_titles, h, w)\n",
    "\n",
    "plt.show()"
   ]
  },
  {
   "cell_type": "code",
   "execution_count": null,
   "id": "2da22232-60fa-4036-a800-7eb98c06872f",
   "metadata": {
    "tags": []
   },
   "outputs": [],
   "source": [
    "print(\"Fitting the classifier to the training set\")\n",
    "t0 = time()\n",
    "param_grid = {\n",
    "    \"C\": loguniform(1e3, 1e5),\n",
    "    \"gamma\": loguniform(1e-4, 1e-1),\n",
    "}\n",
    "clf = RandomizedSearchCV(\n",
    "    SVC(kernel=\"rbf\", class_weight=\"balanced\"), param_grid, n_iter=10\n",
    ")\n",
    "clf = clf.fit(X_train_pca, y_train)\n",
    "print(\"done in %0.3fs\" % (time() - t0))\n",
    "print(\"Best estimator found by grid search:\")\n",
    "print(clf.best_estimator_)"
   ]
  },
  {
   "cell_type": "code",
   "execution_count": null,
   "id": "ee7bb527-65fe-4dc1-9f50-1c0103fa24ac",
   "metadata": {
    "tags": []
   },
   "outputs": [],
   "source": [
    "print(\"Predicting people's names on the test set\")\n",
    "t0 = time()\n",
    "y_pred = clf.predict(X_test_pca)\n",
    "print(\"done in %0.3fs\" % (time() - t0))\n",
    "\n",
    "print(classification_report(y_test, y_pred, target_names=target_names))\n",
    "ConfusionMatrixDisplay.from_estimator(\n",
    "    clf, X_test_pca, y_test, display_labels=target_names, xticks_rotation=\"vertical\"\n",
    ")\n",
    "plt.tight_layout()\n",
    "plt.show()"
   ]
  }
 ],
 "metadata": {
  "kernelspec": {
   "display_name": "Python 3 (ipykernel)",
   "language": "python",
   "name": "python3"
  },
  "language_info": {
   "codemirror_mode": {
    "name": "ipython",
    "version": 3
   },
   "file_extension": ".py",
   "mimetype": "text/x-python",
   "name": "python",
   "nbconvert_exporter": "python",
   "pygments_lexer": "ipython3",
   "version": "3.8.13"
  }
 },
 "nbformat": 4,
 "nbformat_minor": 5
}
