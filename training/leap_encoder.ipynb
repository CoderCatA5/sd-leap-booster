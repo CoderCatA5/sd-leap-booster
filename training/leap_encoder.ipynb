{
 "cells": [
  {
   "cell_type": "code",
   "execution_count": 1,
   "id": "8d16faaf-3c68-4078-95ae-f0cba75069a5",
   "metadata": {
    "tags": []
   },
   "outputs": [],
   "source": [
    "from time import time\n",
    "import matplotlib.pyplot as plt\n",
    "import sys\n",
    "\n",
    "from sklearn.model_selection import train_test_split\n",
    "from sklearn.model_selection import RandomizedSearchCV\n",
    "from sklearn.datasets import fetch_lfw_people\n",
    "from sklearn.metrics import classification_report\n",
    "from sklearn.metrics import ConfusionMatrixDisplay\n",
    "from sklearn.preprocessing import StandardScaler\n",
    "from sklearn.decomposition import PCA\n",
    "from sklearn.svm import SVC\n",
    "from sklearn import random_projection\n",
    "from sklearn.utils.fixes import loguniform\n",
    "from tqdm import tqdm\n",
    "import numpy as np\n",
    "import pickle"
   ]
  },
  {
   "cell_type": "code",
   "execution_count": 2,
   "id": "4957dcbd-5e2d-4097-a028-611efe92513c",
   "metadata": {},
   "outputs": [
    {
     "name": "stderr",
     "output_type": "stream",
     "text": [
      "/opt/conda/lib/python3.8/site-packages/tqdm/auto.py:22: TqdmWarning: IProgress not found. Please update jupyter and ipywidgets. See https://ipywidgets.readthedocs.io/en/stable/user_install.html\n",
      "  from .autonotebook import tqdm as notebook_tqdm\n"
     ]
    },
    {
     "name": "stdout",
     "output_type": "stream",
     "text": [
      "filter_files: 335 approved - 0 rejected\n"
     ]
    },
    {
     "name": "stderr",
     "output_type": "stream",
     "text": [
      "100%|██████████████████████████████████████████████████████████████████████████████████████████████████████████████████████████████████████████████████████████████████████████████████████████████████████████████████████| 335/335 [00:49<00:00,  6.74it/s]\n"
     ]
    }
   ],
   "source": [
    "def get_data():\n",
    "    from datamodule import ImageWeightsModule\n",
    "    import torch\n",
    "    all_data_loader = ImageWeightsModule(\"lora_dataset_creator/lora_dataset\", 1, augment_training=False, val_split=0).train_dataloader()\n",
    "    X = None\n",
    "    Y = None\n",
    "    for x, y in tqdm(all_data_loader):\n",
    "        if X is None:\n",
    "            X = x\n",
    "        X = torch.cat((X, x), dim=0)\n",
    "        if Y is None:\n",
    "            Y = y\n",
    "        Y = torch.cat((Y, y), dim=0)\n",
    "    return X, np.array(Y)\n",
    "\n",
    "X, Y = get_data()"
   ]
  },
  {
   "cell_type": "code",
   "execution_count": 3,
   "id": "e3948438-ad82-4819-b3c2-0b9de217a207",
   "metadata": {
    "tags": []
   },
   "outputs": [
    {
     "name": "stdout",
     "output_type": "stream",
     "text": [
      "(326, 509248)\n"
     ]
    }
   ],
   "source": [
    "scaler = StandardScaler()\n",
    "Y_scaled = scaler.fit_transform(Y)\n",
    "Y_scaled = Y\n",
    "Y_scaled_val = Y_scaled[:10, :]\n",
    "Y_scaled = Y_scaled[10:, :]\n",
    "print(Y_scaled.shape)"
   ]
  },
  {
   "cell_type": "raw",
   "id": "8e7a761e-6766-4577-bd71-059ee24f2edf",
   "metadata": {
    "tags": []
   },
   "source": [
    "transformer = random_projection.GaussianRandomProjection(n_components=100, compute_inverse_components=True)\n",
    "X_new = transformer.fit_transform(Y_scaled)\n",
    "print(X_new.shape)\n",
    "\n",
    "X_new_inversed = transformer.inverse_transform(X_new)\n",
    "print(X_new_inversed.shape)\n",
    "print(f\"Y_scaled:\\n{Y_scaled}\\nX_new_inversed:\\n{X_new_inversed} ({abs(Y_scaled - X_new_inversed).mean()})\")\n",
    "\n",
    "X_new = transformer.transform(Y_scaled_val)\n",
    "X_new_inversed = transformer.inverse_transform(X_new)\n",
    "print(f\"Y_scaled_val:\\n{Y_scaled_val}\\nX_new_inversed:\\n{X_new_inversed} ({abs(Y_scaled_val - X_new_inversed).mean()})\")"
   ]
  },
  {
   "cell_type": "code",
   "execution_count": 4,
   "id": "e7b16e8c-0b74-466c-9d58-489b89525adc",
   "metadata": {
    "tags": []
   },
   "outputs": [],
   "source": [
    "@np.printoptions(suppress=True)\n",
    "def test_pca(x):\n",
    "    t0 = time()\n",
    "    z = pca.transform(x)\n",
    "    print(\"transform done in %0.3fs\" % (time() - t0))\n",
    "    print(f\"out = {z.shape}\")\n",
    "    t0 = time()\n",
    "    x_hat = pca.inverse_transform(z)\n",
    "    print(\"inverse_transform done in %0.3fs\" % (time() - t0))\n",
    "    print(f\"loss = {abs(x_hat - x).mean()}\")"
   ]
  },
  {
   "cell_type": "code",
   "execution_count": 5,
   "id": "5a472fa4-1f6b-4ee9-afe4-8de6043834a6",
   "metadata": {
    "tags": []
   },
   "outputs": [
    {
     "name": "stdout",
     "output_type": "stream",
     "text": [
      "in = (326, 509248)\n",
      "done in 22.227s\n"
     ]
    }
   ],
   "source": [
    "n_components = 100\n",
    "t0 = time()\n",
    "print(f\"in = {Y_scaled.shape}\")\n",
    "pca = PCA(n_components=n_components, svd_solver=\"randomized\", whiten=True, random_state=5).fit(Y_scaled)\n",
    "print(\"done in %0.3fs\" % (time() - t0))"
   ]
  },
  {
   "cell_type": "code",
   "execution_count": 6,
   "id": "557d4a65-9d63-467c-9b15-9cc720db815f",
   "metadata": {
    "tags": []
   },
   "outputs": [
    {
     "name": "stdout",
     "output_type": "stream",
     "text": [
      "transform done in 1.527s\n",
      "out = (326, 100)\n",
      "inverse_transform done in 1.137s\n",
      "loss = 0.02307949960231781\n",
      "transform done in 0.278s\n",
      "out = (10, 100)\n",
      "inverse_transform done in 0.178s\n",
      "loss = 0.03913899138569832\n"
     ]
    }
   ],
   "source": [
    "test_pca(Y_scaled)\n",
    "test_pca(Y_scaled_val)"
   ]
  },
  {
   "cell_type": "code",
   "execution_count": 7,
   "id": "2aa0b7a3-cc18-495d-96e6-32be1ec7950c",
   "metadata": {
    "tags": []
   },
   "outputs": [
    {
     "data": {
      "text/html": [
       "<pre style=\"white-space:pre;overflow-x:auto;line-height:normal;font-family:Menlo,'DejaVu Sans Mono',consolas,'Courier New',monospace\"><span style=\"color: #800000; text-decoration-color: #800000\">╭─────────────────────────────── </span><span style=\"color: #800000; text-decoration-color: #800000; font-weight: bold\">Traceback </span><span style=\"color: #bf7f7f; text-decoration-color: #bf7f7f; font-weight: bold\">(most recent call last)</span><span style=\"color: #800000; text-decoration-color: #800000\"> ────────────────────────────────╮</span>\n",
       "<span style=\"color: #800000; text-decoration-color: #800000\">│</span> <span style=\"color: #bfbf7f; text-decoration-color: #bfbf7f\">/tmp/ipykernel_20020/</span><span style=\"color: #808000; text-decoration-color: #808000; font-weight: bold\">2267776780.py</span>:<span style=\"color: #0000ff; text-decoration-color: #0000ff\">1</span> in <span style=\"color: #00ff00; text-decoration-color: #00ff00\">&lt;module&gt;</span>                                                 <span style=\"color: #800000; text-decoration-color: #800000\">│</span>\n",
       "<span style=\"color: #800000; text-decoration-color: #800000\">│</span>                                                                                                  <span style=\"color: #800000; text-decoration-color: #800000\">│</span>\n",
       "<span style=\"color: #800000; text-decoration-color: #800000\">│</span> <span style=\"color: #800000; text-decoration-color: #800000; font-style: italic\">[Errno 2] No such file or directory: '/tmp/ipykernel_20020/2267776780.py'</span>                        <span style=\"color: #800000; text-decoration-color: #800000\">│</span>\n",
       "<span style=\"color: #800000; text-decoration-color: #800000\">╰──────────────────────────────────────────────────────────────────────────────────────────────────╯</span>\n",
       "<span style=\"color: #ff0000; text-decoration-color: #ff0000; font-weight: bold\">NameError: </span>name <span style=\"color: #008000; text-decoration-color: #008000\">'eigenfaces'</span> is not defined\n",
       "</pre>\n"
      ],
      "text/plain": [
       "\u001b[31m╭─\u001b[0m\u001b[31m──────────────────────────────\u001b[0m\u001b[31m \u001b[0m\u001b[1;31mTraceback \u001b[0m\u001b[1;2;31m(most recent call last)\u001b[0m\u001b[31m \u001b[0m\u001b[31m───────────────────────────────\u001b[0m\u001b[31m─╮\u001b[0m\n",
       "\u001b[31m│\u001b[0m \u001b[2;33m/tmp/ipykernel_20020/\u001b[0m\u001b[1;33m2267776780.py\u001b[0m:\u001b[94m1\u001b[0m in \u001b[92m<module>\u001b[0m                                                 \u001b[31m│\u001b[0m\n",
       "\u001b[31m│\u001b[0m                                                                                                  \u001b[31m│\u001b[0m\n",
       "\u001b[31m│\u001b[0m \u001b[3;31m[Errno 2] No such file or directory: '/tmp/ipykernel_20020/2267776780.py'\u001b[0m                        \u001b[31m│\u001b[0m\n",
       "\u001b[31m╰──────────────────────────────────────────────────────────────────────────────────────────────────╯\u001b[0m\n",
       "\u001b[1;91mNameError: \u001b[0mname \u001b[32m'eigenfaces'\u001b[0m is not defined\n"
      ]
     },
     "metadata": {},
     "output_type": "display_data"
    }
   ],
   "source": [
    "eigenface_titles = [\"eigenface %d\" % i for i in range(eigenfaces.shape[0])]\n",
    "plot_gallery(eigenfaces, eigenface_titles, h, w)\n",
    "\n",
    "plt.show()"
   ]
  },
  {
   "cell_type": "code",
   "execution_count": null,
   "id": "2da22232-60fa-4036-a800-7eb98c06872f",
   "metadata": {
    "tags": []
   },
   "outputs": [],
   "source": [
    "print(\"Fitting the classifier to the training set\")\n",
    "t0 = time()\n",
    "param_grid = {\n",
    "    \"C\": loguniform(1e3, 1e5),\n",
    "    \"gamma\": loguniform(1e-4, 1e-1),\n",
    "}\n",
    "clf = RandomizedSearchCV(\n",
    "    SVC(kernel=\"rbf\", class_weight=\"balanced\"), param_grid, n_iter=10\n",
    ")\n",
    "clf = clf.fit(X_train_pca, y_train)\n",
    "print(\"done in %0.3fs\" % (time() - t0))\n",
    "print(\"Best estimator found by grid search:\")\n",
    "print(clf.best_estimator_)"
   ]
  },
  {
   "cell_type": "code",
   "execution_count": null,
   "id": "ee7bb527-65fe-4dc1-9f50-1c0103fa24ac",
   "metadata": {
    "tags": []
   },
   "outputs": [],
   "source": [
    "print(\"Predicting people's names on the test set\")\n",
    "t0 = time()\n",
    "y_pred = clf.predict(X_test_pca)\n",
    "print(\"done in %0.3fs\" % (time() - t0))\n",
    "\n",
    "print(classification_report(y_test, y_pred, target_names=target_names))\n",
    "ConfusionMatrixDisplay.from_estimator(\n",
    "    clf, X_test_pca, y_test, display_labels=target_names, xticks_rotation=\"vertical\"\n",
    ")\n",
    "plt.tight_layout()\n",
    "plt.show()"
   ]
  }
 ],
 "metadata": {
  "kernelspec": {
   "display_name": "Python 3 (ipykernel)",
   "language": "python",
   "name": "python3"
  },
  "language_info": {
   "codemirror_mode": {
    "name": "ipython",
    "version": 3
   },
   "file_extension": ".py",
   "mimetype": "text/x-python",
   "name": "python",
   "nbconvert_exporter": "python",
   "pygments_lexer": "ipython3",
   "version": "3.8.13"
  }
 },
 "nbformat": 4,
 "nbformat_minor": 5
}
