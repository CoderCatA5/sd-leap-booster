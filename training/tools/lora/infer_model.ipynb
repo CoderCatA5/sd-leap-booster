{
 "cells": [
  {
   "cell_type": "code",
   "execution_count": null,
   "id": "ae33fe6b-7e27-4514-a8b5-9373738e5c78",
   "metadata": {},
   "outputs": [],
   "source": [
    "from diffusers import StableDiffusionPipeline, EulerAncestralDiscreteScheduler\n",
    "import torch\n",
    "import os\n",
    "from lora_diffusion import tune_lora_scale, patch_pipe\n",
    "from PIL import Image\n",
    "import matplotlib.pyplot as plt\n",
    "import numpy as np\n",
    "import time"
   ]
  },
  {
   "cell_type": "code",
   "execution_count": null,
   "id": "cea68b4e-0263-4531-9415-40ad959197db",
   "metadata": {},
   "outputs": [],
   "source": [
    "imagenet_templates_small = [\n",
    "    \"realistic photo of {}\",\n",
    "    \"realistic render of {}\",\n",
    "    \"painting of {}\",\n",
    "    \"{}\",\n",
    "    \"anime styled {}\",\n",
    "    \"vector art style {}\",\n",
    "]\n",
    "model_id = \"stabilityai/stable-diffusion-2-1-base\"\n",
    "tensors_path = \"/Downloads/sex/step_100.safetensors\"\n",
    "tensors_path = \"/Projects/Personal/leap-sd/training/tools/lora/original_loras/vol.safetensors\"\n",
    "# tensors_path = \"/Projects/Personal/leap-sd/training/lora_dataset_creator/lora_dataset/dragon/models/step_1000.safetensors\""
   ]
  },
  {
   "cell_type": "code",
   "execution_count": null,
   "id": "d3386808-d473-4090-832e-b172c4ab6533",
   "metadata": {},
   "outputs": [],
   "source": [
    "pipe = StableDiffusionPipeline.from_pretrained(model_id, torch_dtype=torch.float16).to(\n",
    "    \"cuda\"\n",
    ")\n",
    "pipe.scheduler = EulerAncestralDiscreteScheduler.from_config(pipe.scheduler.config)"
   ]
  },
  {
   "cell_type": "code",
   "execution_count": null,
   "id": "1f1bda86-1531-4eed-af26-96729c6224b3",
   "metadata": {},
   "outputs": [],
   "source": [
    "def display_grid(images, rows, cols, titles):\n",
    "    fig, axs = plt.subplots(rows, cols, figsize=(7, 6))\n",
    "    for i, ax in enumerate(axs.flat):\n",
    "        ax.imshow(images[i])\n",
    "        ax.axis('off')\n",
    "        ax.set_title(titles[i])\n",
    "    plt.show()\n",
    "    \n",
    "def test_gen():\n",
    "    torch.manual_seed(0)\n",
    "    images = [pipe(prompt.format(\"<s1>\"), num_inference_steps=25, guidance_scale=9).images[0] for prompt in imagenet_templates_small]\n",
    "    display_grid(images, 2, 3, imagenet_templates_small)"
   ]
  },
  {
   "cell_type": "code",
   "execution_count": null,
   "id": "ac1bd90f-52a8-413e-bc11-dbf2ba93d2ba",
   "metadata": {},
   "outputs": [],
   "source": [
    "patch_pipe(\n",
    "    pipe,\n",
    "    tensors_path,\n",
    "    patch_text=True,\n",
    "    patch_ti=True,\n",
    "    patch_unet=True,\n",
    ")"
   ]
  },
  {
   "cell_type": "code",
   "execution_count": null,
   "id": "7eb12495-4df6-4d2f-bcc8-e77e85fa870e",
   "metadata": {},
   "outputs": [],
   "source": [
    "tune_lora_scale(pipe.unet, 1)\n",
    "tune_lora_scale(pipe.text_encoder, 1)\n",
    "test_gen()"
   ]
  },
  {
   "cell_type": "code",
   "execution_count": null,
   "id": "345723ab-fb88-4fa5-add0-8d6ffd91a7ac",
   "metadata": {},
   "outputs": [],
   "source": [
    "tune_lora_scale(pipe.unet, 0.2)\n",
    "tune_lora_scale(pipe.text_encoder, 0.2)\n",
    "test_gen()"
   ]
  },
  {
   "cell_type": "code",
   "execution_count": null,
   "id": "11493ddf-0897-4aed-b8ef-a3a6c76c254b",
   "metadata": {},
   "outputs": [],
   "source": []
  }
 ],
 "metadata": {
  "kernelspec": {
   "display_name": "Python 3 (ipykernel)",
   "language": "python",
   "name": "python3"
  },
  "language_info": {
   "codemirror_mode": {
    "name": "ipython",
    "version": 3
   },
   "file_extension": ".py",
   "mimetype": "text/x-python",
   "name": "python",
   "nbconvert_exporter": "python",
   "pygments_lexer": "ipython3",
   "version": "3.8.13"
  }
 },
 "nbformat": 4,
 "nbformat_minor": 5
}
